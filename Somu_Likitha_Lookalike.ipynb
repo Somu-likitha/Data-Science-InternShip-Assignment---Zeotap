{
 "cells": [
  {
   "cell_type": "markdown",
   "metadata": {},
   "source": [
    "Import Required Libraries"
   ]
  },
  {
   "cell_type": "code",
   "execution_count": 1,
   "metadata": {},
   "outputs": [],
   "source": [
    "import pandas as pd\n",
    "import numpy as np\n",
    "from sklearn.metrics.pairwise import cosine_similarity\n",
    "from sklearn.preprocessing import StandardScaler\n"
   ]
  },
  {
   "cell_type": "markdown",
   "metadata": {},
   "source": [
    "Loading Given Datasets"
   ]
  },
  {
   "cell_type": "code",
   "execution_count": 2,
   "metadata": {},
   "outputs": [],
   "source": [
    "customers_url = \"https://drive.google.com/uc?id=1bu_--mo79VdUG9oin4ybfFGRUSXAe-WE\"\n",
    "products_url = \"https://drive.google.com/uc?id=1IKuDizVapw-hyktwfpoAoaGtHtTNHfd0\"\n",
    "transactions_url = \"https://drive.google.com/uc?id=1saEqdbBB-vuk2hxoAf4TzDEsykdKlzbF\"\n",
    "\n",
    "customers = pd.read_csv(customers_url)\n",
    "products = pd.read_csv(products_url)\n",
    "transactions = pd.read_csv(transactions_url)"
   ]
  },
  {
   "cell_type": "markdown",
   "metadata": {},
   "source": [
    "Step 1:Merging Datasets to get complete data in one set."
   ]
  },
  {
   "cell_type": "code",
   "execution_count": 3,
   "metadata": {},
   "outputs": [],
   "source": [
    "data = pd.merge(transactions, customers, on='CustomerID')\n",
    "data = pd.merge(data, products, on='ProductID')"
   ]
  },
  {
   "cell_type": "markdown",
   "metadata": {},
   "source": [
    "Step 2:Create a customer-product matrix\n"
   ]
  },
  {
   "cell_type": "code",
   "execution_count": 4,
   "metadata": {},
   "outputs": [],
   "source": [
    "customer_product_matrix = data.pivot_table(index='CustomerID', columns='ProductID', values='Quantity', aggfunc='sum', fill_value=0)"
   ]
  },
  {
   "cell_type": "markdown",
   "metadata": {},
   "source": [
    " Step 3: Normalize the matrix\n",
    " # StandardScaler is used to normalize the customer-product matrix for uniformity"
   ]
  },
  {
   "cell_type": "code",
   "execution_count": 5,
   "metadata": {},
   "outputs": [],
   "source": [
    "scaler = StandardScaler()\n",
    "normalized_matrix = scaler.fit_transform(customer_product_matrix)"
   ]
  },
  {
   "cell_type": "markdown",
   "metadata": {},
   "source": [
    "Step 4: Compute cosine similarity\n",
    "# Cosine similarity is calculated to measure the similarity between customers based on product purchase patterns"
   ]
  },
  {
   "cell_type": "code",
   "execution_count": 6,
   "metadata": {},
   "outputs": [],
   "source": [
    "similarity_matrix = cosine_similarity(normalized_matrix)\n",
    "similarity_df = pd.DataFrame(similarity_matrix, index=customer_product_matrix.index, columns=customer_product_matrix.index)\n"
   ]
  },
  {
   "cell_type": "markdown",
   "metadata": {},
   "source": [
    "Step 5:Function to get top 3 lookalikes\n",
    "# This function identifies the top 'n' similar customers for a given customer_id"
   ]
  },
  {
   "cell_type": "code",
   "execution_count": 7,
   "metadata": {},
   "outputs": [],
   "source": [
    "def get_top_lookalikes(customer_id, n=3):\n",
    "    scores = similarity_df[customer_id].sort_values(ascending=False)[1:n+1]\n",
    "    return list(zip(scores.index, scores.values))"
   ]
  },
  {
   "cell_type": "markdown",
   "metadata": {},
   "source": [
    "Step 6: Generate Lookalike.csv\n",
    "# Iterate through the first 20 customers in the dataset to generate their lookalike data\n",
    "# Transform the lookalike data into a DataFrame for easier export"
   ]
  },
  {
   "cell_type": "code",
   "execution_count": 8,
   "metadata": {},
   "outputs": [],
   "source": [
    "lookalike_data = {}\n",
    "for customer_id in customers['CustomerID'][:20]:\n",
    "    lookalike_data[customer_id] = get_top_lookalikes(customer_id)\n",
    "\n",
    "lookalike_df = pd.DataFrame({\n",
    "    'CustomerID': list(lookalike_data.keys()),\n",
    "    'Lookalikes': [str(lookalike_data[cust_id]) for cust_id in lookalike_data.keys()]\n",
    "})\n",
    "# The results are saved in a CSV file for further analysis or integration\n",
    "lookalike_df.to_csv('Somu_Likitha_Lookalike.csv', index=False)"
   ]
  }
 ],
 "metadata": {
  "kernelspec": {
   "display_name": "Python 3",
   "language": "python",
   "name": "python3"
  },
  "language_info": {
   "codemirror_mode": {
    "name": "ipython",
    "version": 3
   },
   "file_extension": ".py",
   "mimetype": "text/x-python",
   "name": "python",
   "nbconvert_exporter": "python",
   "pygments_lexer": "ipython3",
   "version": "3.7.8"
  }
 },
 "nbformat": 4,
 "nbformat_minor": 2
}
